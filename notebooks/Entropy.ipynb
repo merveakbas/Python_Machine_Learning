{
 "cells": [
  {
   "cell_type": "code",
   "execution_count": null,
   "metadata": {},
   "outputs": [],
   "source": []
  },
  {
   "cell_type": "markdown",
   "metadata": {},
   "source": [
    "## Calculating entropy and information gain \n",
    "Exercise based on the data in csv bug data\n",
    "\n",
    "We are trying to find which of the following splits has the highest information gain:\n",
    "\n",
    "-  Color is Brown\n",
    "-  Color is Blue\n",
    "-  Color is Green\n",
    "-  Length is less than 17\n",
    "-  Length is less than 20 \n"
   ]
  },
  {
   "cell_type": "code",
   "execution_count": 20,
   "metadata": {},
   "outputs": [],
   "source": [
    "import numpy as np"
   ]
  },
  {
   "cell_type": "code",
   "execution_count": 21,
   "metadata": {},
   "outputs": [],
   "source": [
    "def two_group_ent(first, tot):                        \n",
    "    return -(first/tot*np.log2(first/tot) +           \n",
    "             (tot-first)/tot*np.log2((tot-first)/tot))\n",
    "\n",
    "tot_ent = two_group_ent(10, 24)                       \n",
    "g17_ent = 15/24 * two_group_ent(11,15) + 9/24 * two_group_ent(6,9)                  \n",
    "\n",
    "answer = tot_ent - g17_ent"
   ]
  },
  {
   "cell_type": "code",
   "execution_count": 22,
   "metadata": {},
   "outputs": [
    {
     "data": {
      "text/plain": [
       "0.11260735516748976"
      ]
     },
     "execution_count": 22,
     "metadata": {},
     "output_type": "execute_result"
    }
   ],
   "source": [
    "answer\n"
   ]
  },
  {
   "cell_type": "code",
   "execution_count": 23,
   "metadata": {},
   "outputs": [
    {
     "data": {
      "text/plain": [
       "0.9798687566511528"
      ]
     },
     "execution_count": 23,
     "metadata": {},
     "output_type": "execute_result"
    }
   ],
   "source": [
    "# Define entropy of parent node (the full outcome)\n",
    "def two_gr_ent(log, mog):\n",
    "    entropy = - (log/(log+mog))*np.log2(log/(log+mog)) - (mog/(log+mog))*np.log2(mog/(log+mog))\n",
    "    return entropy\n",
    "\n",
    "\n",
    "parent_entropy = two_gr_ent(14,10)\n",
    "parent_entropy"
   ]
  },
  {
   "cell_type": "markdown",
   "metadata": {},
   "source": [
    "Blue: \t6Lobug - 4 Mobug\tno blue is 8 lobug - 6 mobug \n",
    "\n",
    "Brwn\t2 lobug- 4 mbug\t    nobrown is 12 lobug - 6 mobug\n",
    "\n",
    "Green\t6 Lobug - 2 mobug\tno green is 8 lobug- 8 mobug\n",
    "\n",
    "les 17:\t3lobug - 6 mobug     more 17 is\t11 lobug-4 mobug\n",
    "\n",
    " less 20:\t8 lobug-9 mobug   more 20\tis 6 lobug-1 mobug"
   ]
  },
  {
   "cell_type": "code",
   "execution_count": 24,
   "metadata": {},
   "outputs": [
    {
     "data": {
      "text/plain": [
       "0.979279160376092"
      ]
     },
     "execution_count": 24,
     "metadata": {},
     "output_type": "execute_result"
    }
   ],
   "source": [
    "color_blue_ent = 10/24 * two_gr_ent(6,4) + 14/24 * two_gr_ent(8,6)\n",
    "color_blue_ent"
   ]
  },
  {
   "cell_type": "code",
   "execution_count": 25,
   "metadata": {},
   "outputs": [
    {
     "data": {
      "text/plain": [
       "0.9182958340544896"
      ]
     },
     "execution_count": 25,
     "metadata": {},
     "output_type": "execute_result"
    }
   ],
   "source": [
    "color_brown_ent = 6/24 * two_gr_ent(2,4) + 18/24 * two_gr_ent(12,6)\n",
    "color_brown_ent"
   ]
  },
  {
   "cell_type": "code",
   "execution_count": 26,
   "metadata": {},
   "outputs": [
    {
     "data": {
      "text/plain": [
       "0.9370927081530442"
      ]
     },
     "execution_count": 26,
     "metadata": {},
     "output_type": "execute_result"
    }
   ],
   "source": [
    "color_green_ent = 8/24 * two_gr_ent(6,2) + 16/24 * two_gr_ent(8,8)\n",
    "color_green_ent"
   ]
  },
  {
   "cell_type": "code",
   "execution_count": 27,
   "metadata": {},
   "outputs": [
    {
     "data": {
      "text/plain": [
       "0.867261401483663"
      ]
     },
     "execution_count": 27,
     "metadata": {},
     "output_type": "execute_result"
    }
   ],
   "source": [
    "split17ent = 9/24 * two_gr_ent(3,6) + 15/24 * two_gr_ent(11,4)\n",
    "split17ent"
   ]
  },
  {
   "cell_type": "code",
   "execution_count": 28,
   "metadata": {},
   "outputs": [
    {
     "data": {
      "text/plain": [
       "0.8791355307646355"
      ]
     },
     "execution_count": 28,
     "metadata": {},
     "output_type": "execute_result"
    }
   ],
   "source": [
    "split20ent = 17/24 * two_gr_ent(8,9) + 7/24 * two_gr_ent(6,1)\n",
    "split20ent"
   ]
  },
  {
   "cell_type": "code",
   "execution_count": 29,
   "metadata": {},
   "outputs": [
    {
     "data": {
      "text/plain": [
       "0.11260735516748976"
      ]
     },
     "execution_count": 29,
     "metadata": {},
     "output_type": "execute_result"
    }
   ],
   "source": [
    "parent_entropy - split17ent"
   ]
  },
  {
   "cell_type": "markdown",
   "metadata": {},
   "source": [
    "## The answer is splitting at 17 gives the highest information gain"
   ]
  },
  {
   "cell_type": "code",
   "execution_count": null,
   "metadata": {},
   "outputs": [],
   "source": []
  }
 ],
 "metadata": {
  "kernelspec": {
   "display_name": "Python 3",
   "language": "python",
   "name": "python3"
  },
  "language_info": {
   "codemirror_mode": {
    "name": "ipython",
    "version": 3
   },
   "file_extension": ".py",
   "mimetype": "text/x-python",
   "name": "python",
   "nbconvert_exporter": "python",
   "pygments_lexer": "ipython3",
   "version": "3.7.1"
  }
 },
 "nbformat": 4,
 "nbformat_minor": 2
}
